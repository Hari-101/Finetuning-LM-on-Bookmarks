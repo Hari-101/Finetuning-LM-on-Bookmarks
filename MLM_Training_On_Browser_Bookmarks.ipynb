{
  "nbformat": 4,
  "nbformat_minor": 0,
  "metadata": {
    "colab": {
      "name": "Training_On_Browser_Bookmarks.ipynb",
      "provenance": [],
      "collapsed_sections": []
    },
    "kernelspec": {
      "name": "python3",
      "display_name": "Python 3"
    },
    "language_info": {
      "name": "python"
    },
    "accelerator": "GPU",
    "gpuClass": "standard",
    "widgets": {
      "application/vnd.jupyter.widget-state+json": {
        "aebbf6e3256c4948bd527bbbec108c73": {
          "model_module": "@jupyter-widgets/controls",
          "model_name": "HBoxModel",
          "model_module_version": "2.0.0",
          "state": {
            "_dom_classes": [],
            "_model_module": "@jupyter-widgets/controls",
            "_model_module_version": "2.0.0",
            "_model_name": "HBoxModel",
            "_view_count": null,
            "_view_module": "@jupyter-widgets/controls",
            "_view_module_version": "2.0.0",
            "_view_name": "HBoxView",
            "box_style": "",
            "children": [
              "IPY_MODEL_09edcabb13da443ab6bde16f7251c9b0",
              "IPY_MODEL_bf218b8eee944e358710ec0c0502c59e",
              "IPY_MODEL_4af8671d1dd94d7aa7f7ab5636572cd8"
            ],
            "layout": "IPY_MODEL_cdb08fb4e1b7406abb21dd8915d30395",
            "tabbable": null,
            "tooltip": null
          }
        },
        "09edcabb13da443ab6bde16f7251c9b0": {
          "model_module": "@jupyter-widgets/controls",
          "model_name": "HTMLModel",
          "model_module_version": "2.0.0",
          "state": {
            "_dom_classes": [],
            "_model_module": "@jupyter-widgets/controls",
            "_model_module_version": "2.0.0",
            "_model_name": "HTMLModel",
            "_view_count": null,
            "_view_module": "@jupyter-widgets/controls",
            "_view_module_version": "2.0.0",
            "_view_name": "HTMLView",
            "description": "",
            "description_allow_html": false,
            "layout": "IPY_MODEL_8dd55272d8d84adeb2eadeac397e5f49",
            "placeholder": "​",
            "style": "IPY_MODEL_049459f9db7d47798e40d085dae0802e",
            "tabbable": null,
            "tooltip": null,
            "value": "Downloading vocab.json: 100%"
          }
        },
        "bf218b8eee944e358710ec0c0502c59e": {
          "model_module": "@jupyter-widgets/controls",
          "model_name": "FloatProgressModel",
          "model_module_version": "2.0.0",
          "state": {
            "_dom_classes": [],
            "_model_module": "@jupyter-widgets/controls",
            "_model_module_version": "2.0.0",
            "_model_name": "FloatProgressModel",
            "_view_count": null,
            "_view_module": "@jupyter-widgets/controls",
            "_view_module_version": "2.0.0",
            "_view_name": "ProgressView",
            "bar_style": "success",
            "description": "",
            "description_allow_html": false,
            "layout": "IPY_MODEL_5454cb1a2be34f45954194fdc2338b37",
            "max": 898823,
            "min": 0,
            "orientation": "horizontal",
            "style": "IPY_MODEL_76041071db2e473388df7b84d74a7ed7",
            "tabbable": null,
            "tooltip": null,
            "value": 898823
          }
        },
        "4af8671d1dd94d7aa7f7ab5636572cd8": {
          "model_module": "@jupyter-widgets/controls",
          "model_name": "HTMLModel",
          "model_module_version": "2.0.0",
          "state": {
            "_dom_classes": [],
            "_model_module": "@jupyter-widgets/controls",
            "_model_module_version": "2.0.0",
            "_model_name": "HTMLModel",
            "_view_count": null,
            "_view_module": "@jupyter-widgets/controls",
            "_view_module_version": "2.0.0",
            "_view_name": "HTMLView",
            "description": "",
            "description_allow_html": false,
            "layout": "IPY_MODEL_7e2a52e0de904715b9eb41c43218b3fd",
            "placeholder": "​",
            "style": "IPY_MODEL_847d842c4aa14dbe8b25e404b76d891b",
            "tabbable": null,
            "tooltip": null,
            "value": " 878k/878k [00:01&lt;00:00, 804kB/s]"
          }
        },
        "cdb08fb4e1b7406abb21dd8915d30395": {
          "model_module": "@jupyter-widgets/base",
          "model_name": "LayoutModel",
          "model_module_version": "2.0.0",
          "state": {
            "_model_module": "@jupyter-widgets/base",
            "_model_module_version": "2.0.0",
            "_model_name": "LayoutModel",
            "_view_count": null,
            "_view_module": "@jupyter-widgets/base",
            "_view_module_version": "2.0.0",
            "_view_name": "LayoutView",
            "align_content": null,
            "align_items": null,
            "align_self": null,
            "border_bottom": null,
            "border_left": null,
            "border_right": null,
            "border_top": null,
            "bottom": null,
            "display": null,
            "flex": null,
            "flex_flow": null,
            "grid_area": null,
            "grid_auto_columns": null,
            "grid_auto_flow": null,
            "grid_auto_rows": null,
            "grid_column": null,
            "grid_gap": null,
            "grid_row": null,
            "grid_template_areas": null,
            "grid_template_columns": null,
            "grid_template_rows": null,
            "height": null,
            "justify_content": null,
            "justify_items": null,
            "left": null,
            "margin": null,
            "max_height": null,
            "max_width": null,
            "min_height": null,
            "min_width": null,
            "object_fit": null,
            "object_position": null,
            "order": null,
            "overflow": null,
            "padding": null,
            "right": null,
            "top": null,
            "visibility": null,
            "width": null
          }
        },
        "8dd55272d8d84adeb2eadeac397e5f49": {
          "model_module": "@jupyter-widgets/base",
          "model_name": "LayoutModel",
          "model_module_version": "2.0.0",
          "state": {
            "_model_module": "@jupyter-widgets/base",
            "_model_module_version": "2.0.0",
            "_model_name": "LayoutModel",
            "_view_count": null,
            "_view_module": "@jupyter-widgets/base",
            "_view_module_version": "2.0.0",
            "_view_name": "LayoutView",
            "align_content": null,
            "align_items": null,
            "align_self": null,
            "border_bottom": null,
            "border_left": null,
            "border_right": null,
            "border_top": null,
            "bottom": null,
            "display": null,
            "flex": null,
            "flex_flow": null,
            "grid_area": null,
            "grid_auto_columns": null,
            "grid_auto_flow": null,
            "grid_auto_rows": null,
            "grid_column": null,
            "grid_gap": null,
            "grid_row": null,
            "grid_template_areas": null,
            "grid_template_columns": null,
            "grid_template_rows": null,
            "height": null,
            "justify_content": null,
            "justify_items": null,
            "left": null,
            "margin": null,
            "max_height": null,
            "max_width": null,
            "min_height": null,
            "min_width": null,
            "object_fit": null,
            "object_position": null,
            "order": null,
            "overflow": null,
            "padding": null,
            "right": null,
            "top": null,
            "visibility": null,
            "width": null
          }
        },
        "049459f9db7d47798e40d085dae0802e": {
          "model_module": "@jupyter-widgets/controls",
          "model_name": "HTMLStyleModel",
          "model_module_version": "2.0.0",
          "state": {
            "_model_module": "@jupyter-widgets/controls",
            "_model_module_version": "2.0.0",
            "_model_name": "HTMLStyleModel",
            "_view_count": null,
            "_view_module": "@jupyter-widgets/base",
            "_view_module_version": "2.0.0",
            "_view_name": "StyleView",
            "background": null,
            "description_width": "",
            "font_size": null,
            "text_color": null
          }
        },
        "5454cb1a2be34f45954194fdc2338b37": {
          "model_module": "@jupyter-widgets/base",
          "model_name": "LayoutModel",
          "model_module_version": "2.0.0",
          "state": {
            "_model_module": "@jupyter-widgets/base",
            "_model_module_version": "2.0.0",
            "_model_name": "LayoutModel",
            "_view_count": null,
            "_view_module": "@jupyter-widgets/base",
            "_view_module_version": "2.0.0",
            "_view_name": "LayoutView",
            "align_content": null,
            "align_items": null,
            "align_self": null,
            "border_bottom": null,
            "border_left": null,
            "border_right": null,
            "border_top": null,
            "bottom": null,
            "display": null,
            "flex": null,
            "flex_flow": null,
            "grid_area": null,
            "grid_auto_columns": null,
            "grid_auto_flow": null,
            "grid_auto_rows": null,
            "grid_column": null,
            "grid_gap": null,
            "grid_row": null,
            "grid_template_areas": null,
            "grid_template_columns": null,
            "grid_template_rows": null,
            "height": null,
            "justify_content": null,
            "justify_items": null,
            "left": null,
            "margin": null,
            "max_height": null,
            "max_width": null,
            "min_height": null,
            "min_width": null,
            "object_fit": null,
            "object_position": null,
            "order": null,
            "overflow": null,
            "padding": null,
            "right": null,
            "top": null,
            "visibility": null,
            "width": null
          }
        },
        "76041071db2e473388df7b84d74a7ed7": {
          "model_module": "@jupyter-widgets/controls",
          "model_name": "ProgressStyleModel",
          "model_module_version": "2.0.0",
          "state": {
            "_model_module": "@jupyter-widgets/controls",
            "_model_module_version": "2.0.0",
            "_model_name": "ProgressStyleModel",
            "_view_count": null,
            "_view_module": "@jupyter-widgets/base",
            "_view_module_version": "2.0.0",
            "_view_name": "StyleView",
            "bar_color": null,
            "description_width": ""
          }
        },
        "7e2a52e0de904715b9eb41c43218b3fd": {
          "model_module": "@jupyter-widgets/base",
          "model_name": "LayoutModel",
          "model_module_version": "2.0.0",
          "state": {
            "_model_module": "@jupyter-widgets/base",
            "_model_module_version": "2.0.0",
            "_model_name": "LayoutModel",
            "_view_count": null,
            "_view_module": "@jupyter-widgets/base",
            "_view_module_version": "2.0.0",
            "_view_name": "LayoutView",
            "align_content": null,
            "align_items": null,
            "align_self": null,
            "border_bottom": null,
            "border_left": null,
            "border_right": null,
            "border_top": null,
            "bottom": null,
            "display": null,
            "flex": null,
            "flex_flow": null,
            "grid_area": null,
            "grid_auto_columns": null,
            "grid_auto_flow": null,
            "grid_auto_rows": null,
            "grid_column": null,
            "grid_gap": null,
            "grid_row": null,
            "grid_template_areas": null,
            "grid_template_columns": null,
            "grid_template_rows": null,
            "height": null,
            "justify_content": null,
            "justify_items": null,
            "left": null,
            "margin": null,
            "max_height": null,
            "max_width": null,
            "min_height": null,
            "min_width": null,
            "object_fit": null,
            "object_position": null,
            "order": null,
            "overflow": null,
            "padding": null,
            "right": null,
            "top": null,
            "visibility": null,
            "width": null
          }
        },
        "847d842c4aa14dbe8b25e404b76d891b": {
          "model_module": "@jupyter-widgets/controls",
          "model_name": "HTMLStyleModel",
          "model_module_version": "2.0.0",
          "state": {
            "_model_module": "@jupyter-widgets/controls",
            "_model_module_version": "2.0.0",
            "_model_name": "HTMLStyleModel",
            "_view_count": null,
            "_view_module": "@jupyter-widgets/base",
            "_view_module_version": "2.0.0",
            "_view_name": "StyleView",
            "background": null,
            "description_width": "",
            "font_size": null,
            "text_color": null
          }
        },
        "18214f26517c47a5a2867be5635e019a": {
          "model_module": "@jupyter-widgets/controls",
          "model_name": "HBoxModel",
          "model_module_version": "2.0.0",
          "state": {
            "_dom_classes": [],
            "_model_module": "@jupyter-widgets/controls",
            "_model_module_version": "2.0.0",
            "_model_name": "HBoxModel",
            "_view_count": null,
            "_view_module": "@jupyter-widgets/controls",
            "_view_module_version": "2.0.0",
            "_view_name": "HBoxView",
            "box_style": "",
            "children": [
              "IPY_MODEL_974a9ecf373e4e438a43ec0e2e6c99b3",
              "IPY_MODEL_c06b07f32a9e4a42b7c31315fcc5691e",
              "IPY_MODEL_5f2e983777024f25ba63e9503eee8072"
            ],
            "layout": "IPY_MODEL_17ece901dd8242a0adfb31cf6f381045",
            "tabbable": null,
            "tooltip": null
          }
        },
        "974a9ecf373e4e438a43ec0e2e6c99b3": {
          "model_module": "@jupyter-widgets/controls",
          "model_name": "HTMLModel",
          "model_module_version": "2.0.0",
          "state": {
            "_dom_classes": [],
            "_model_module": "@jupyter-widgets/controls",
            "_model_module_version": "2.0.0",
            "_model_name": "HTMLModel",
            "_view_count": null,
            "_view_module": "@jupyter-widgets/controls",
            "_view_module_version": "2.0.0",
            "_view_name": "HTMLView",
            "description": "",
            "description_allow_html": false,
            "layout": "IPY_MODEL_5404b2a005454ae0a46135bb8fd2a718",
            "placeholder": "​",
            "style": "IPY_MODEL_8f93db1d88554a069b3e137673642d7f",
            "tabbable": null,
            "tooltip": null,
            "value": "Downloading merges.txt: 100%"
          }
        },
        "c06b07f32a9e4a42b7c31315fcc5691e": {
          "model_module": "@jupyter-widgets/controls",
          "model_name": "FloatProgressModel",
          "model_module_version": "2.0.0",
          "state": {
            "_dom_classes": [],
            "_model_module": "@jupyter-widgets/controls",
            "_model_module_version": "2.0.0",
            "_model_name": "FloatProgressModel",
            "_view_count": null,
            "_view_module": "@jupyter-widgets/controls",
            "_view_module_version": "2.0.0",
            "_view_name": "ProgressView",
            "bar_style": "success",
            "description": "",
            "description_allow_html": false,
            "layout": "IPY_MODEL_56a8463714294bc995b0b860a7e72ccf",
            "max": 456318,
            "min": 0,
            "orientation": "horizontal",
            "style": "IPY_MODEL_7e713a8712ee4ae38699337ca9337d2f",
            "tabbable": null,
            "tooltip": null,
            "value": 456318
          }
        },
        "5f2e983777024f25ba63e9503eee8072": {
          "model_module": "@jupyter-widgets/controls",
          "model_name": "HTMLModel",
          "model_module_version": "2.0.0",
          "state": {
            "_dom_classes": [],
            "_model_module": "@jupyter-widgets/controls",
            "_model_module_version": "2.0.0",
            "_model_name": "HTMLModel",
            "_view_count": null,
            "_view_module": "@jupyter-widgets/controls",
            "_view_module_version": "2.0.0",
            "_view_name": "HTMLView",
            "description": "",
            "description_allow_html": false,
            "layout": "IPY_MODEL_8ced796371a343f29be8b197669321c7",
            "placeholder": "​",
            "style": "IPY_MODEL_b736f2fa718e45eb952d75ec4d5ab2ff",
            "tabbable": null,
            "tooltip": null,
            "value": " 446k/446k [00:01&lt;00:00, 487kB/s]"
          }
        },
        "17ece901dd8242a0adfb31cf6f381045": {
          "model_module": "@jupyter-widgets/base",
          "model_name": "LayoutModel",
          "model_module_version": "2.0.0",
          "state": {
            "_model_module": "@jupyter-widgets/base",
            "_model_module_version": "2.0.0",
            "_model_name": "LayoutModel",
            "_view_count": null,
            "_view_module": "@jupyter-widgets/base",
            "_view_module_version": "2.0.0",
            "_view_name": "LayoutView",
            "align_content": null,
            "align_items": null,
            "align_self": null,
            "border_bottom": null,
            "border_left": null,
            "border_right": null,
            "border_top": null,
            "bottom": null,
            "display": null,
            "flex": null,
            "flex_flow": null,
            "grid_area": null,
            "grid_auto_columns": null,
            "grid_auto_flow": null,
            "grid_auto_rows": null,
            "grid_column": null,
            "grid_gap": null,
            "grid_row": null,
            "grid_template_areas": null,
            "grid_template_columns": null,
            "grid_template_rows": null,
            "height": null,
            "justify_content": null,
            "justify_items": null,
            "left": null,
            "margin": null,
            "max_height": null,
            "max_width": null,
            "min_height": null,
            "min_width": null,
            "object_fit": null,
            "object_position": null,
            "order": null,
            "overflow": null,
            "padding": null,
            "right": null,
            "top": null,
            "visibility": null,
            "width": null
          }
        },
        "5404b2a005454ae0a46135bb8fd2a718": {
          "model_module": "@jupyter-widgets/base",
          "model_name": "LayoutModel",
          "model_module_version": "2.0.0",
          "state": {
            "_model_module": "@jupyter-widgets/base",
            "_model_module_version": "2.0.0",
            "_model_name": "LayoutModel",
            "_view_count": null,
            "_view_module": "@jupyter-widgets/base",
            "_view_module_version": "2.0.0",
            "_view_name": "LayoutView",
            "align_content": null,
            "align_items": null,
            "align_self": null,
            "border_bottom": null,
            "border_left": null,
            "border_right": null,
            "border_top": null,
            "bottom": null,
            "display": null,
            "flex": null,
            "flex_flow": null,
            "grid_area": null,
            "grid_auto_columns": null,
            "grid_auto_flow": null,
            "grid_auto_rows": null,
            "grid_column": null,
            "grid_gap": null,
            "grid_row": null,
            "grid_template_areas": null,
            "grid_template_columns": null,
            "grid_template_rows": null,
            "height": null,
            "justify_content": null,
            "justify_items": null,
            "left": null,
            "margin": null,
            "max_height": null,
            "max_width": null,
            "min_height": null,
            "min_width": null,
            "object_fit": null,
            "object_position": null,
            "order": null,
            "overflow": null,
            "padding": null,
            "right": null,
            "top": null,
            "visibility": null,
            "width": null
          }
        },
        "8f93db1d88554a069b3e137673642d7f": {
          "model_module": "@jupyter-widgets/controls",
          "model_name": "HTMLStyleModel",
          "model_module_version": "2.0.0",
          "state": {
            "_model_module": "@jupyter-widgets/controls",
            "_model_module_version": "2.0.0",
            "_model_name": "HTMLStyleModel",
            "_view_count": null,
            "_view_module": "@jupyter-widgets/base",
            "_view_module_version": "2.0.0",
            "_view_name": "StyleView",
            "background": null,
            "description_width": "",
            "font_size": null,
            "text_color": null
          }
        },
        "56a8463714294bc995b0b860a7e72ccf": {
          "model_module": "@jupyter-widgets/base",
          "model_name": "LayoutModel",
          "model_module_version": "2.0.0",
          "state": {
            "_model_module": "@jupyter-widgets/base",
            "_model_module_version": "2.0.0",
            "_model_name": "LayoutModel",
            "_view_count": null,
            "_view_module": "@jupyter-widgets/base",
            "_view_module_version": "2.0.0",
            "_view_name": "LayoutView",
            "align_content": null,
            "align_items": null,
            "align_self": null,
            "border_bottom": null,
            "border_left": null,
            "border_right": null,
            "border_top": null,
            "bottom": null,
            "display": null,
            "flex": null,
            "flex_flow": null,
            "grid_area": null,
            "grid_auto_columns": null,
            "grid_auto_flow": null,
            "grid_auto_rows": null,
            "grid_column": null,
            "grid_gap": null,
            "grid_row": null,
            "grid_template_areas": null,
            "grid_template_columns": null,
            "grid_template_rows": null,
            "height": null,
            "justify_content": null,
            "justify_items": null,
            "left": null,
            "margin": null,
            "max_height": null,
            "max_width": null,
            "min_height": null,
            "min_width": null,
            "object_fit": null,
            "object_position": null,
            "order": null,
            "overflow": null,
            "padding": null,
            "right": null,
            "top": null,
            "visibility": null,
            "width": null
          }
        },
        "7e713a8712ee4ae38699337ca9337d2f": {
          "model_module": "@jupyter-widgets/controls",
          "model_name": "ProgressStyleModel",
          "model_module_version": "2.0.0",
          "state": {
            "_model_module": "@jupyter-widgets/controls",
            "_model_module_version": "2.0.0",
            "_model_name": "ProgressStyleModel",
            "_view_count": null,
            "_view_module": "@jupyter-widgets/base",
            "_view_module_version": "2.0.0",
            "_view_name": "StyleView",
            "bar_color": null,
            "description_width": ""
          }
        },
        "8ced796371a343f29be8b197669321c7": {
          "model_module": "@jupyter-widgets/base",
          "model_name": "LayoutModel",
          "model_module_version": "2.0.0",
          "state": {
            "_model_module": "@jupyter-widgets/base",
            "_model_module_version": "2.0.0",
            "_model_name": "LayoutModel",
            "_view_count": null,
            "_view_module": "@jupyter-widgets/base",
            "_view_module_version": "2.0.0",
            "_view_name": "LayoutView",
            "align_content": null,
            "align_items": null,
            "align_self": null,
            "border_bottom": null,
            "border_left": null,
            "border_right": null,
            "border_top": null,
            "bottom": null,
            "display": null,
            "flex": null,
            "flex_flow": null,
            "grid_area": null,
            "grid_auto_columns": null,
            "grid_auto_flow": null,
            "grid_auto_rows": null,
            "grid_column": null,
            "grid_gap": null,
            "grid_row": null,
            "grid_template_areas": null,
            "grid_template_columns": null,
            "grid_template_rows": null,
            "height": null,
            "justify_content": null,
            "justify_items": null,
            "left": null,
            "margin": null,
            "max_height": null,
            "max_width": null,
            "min_height": null,
            "min_width": null,
            "object_fit": null,
            "object_position": null,
            "order": null,
            "overflow": null,
            "padding": null,
            "right": null,
            "top": null,
            "visibility": null,
            "width": null
          }
        },
        "b736f2fa718e45eb952d75ec4d5ab2ff": {
          "model_module": "@jupyter-widgets/controls",
          "model_name": "HTMLStyleModel",
          "model_module_version": "2.0.0",
          "state": {
            "_model_module": "@jupyter-widgets/controls",
            "_model_module_version": "2.0.0",
            "_model_name": "HTMLStyleModel",
            "_view_count": null,
            "_view_module": "@jupyter-widgets/base",
            "_view_module_version": "2.0.0",
            "_view_name": "StyleView",
            "background": null,
            "description_width": "",
            "font_size": null,
            "text_color": null
          }
        },
        "9f2a5e35e83245dfbdc204477819e35c": {
          "model_module": "@jupyter-widgets/controls",
          "model_name": "HBoxModel",
          "model_module_version": "2.0.0",
          "state": {
            "_dom_classes": [],
            "_model_module": "@jupyter-widgets/controls",
            "_model_module_version": "2.0.0",
            "_model_name": "HBoxModel",
            "_view_count": null,
            "_view_module": "@jupyter-widgets/controls",
            "_view_module_version": "2.0.0",
            "_view_name": "HBoxView",
            "box_style": "",
            "children": [
              "IPY_MODEL_78fafda2d83a4f63a49a57283d9cffc4",
              "IPY_MODEL_078b6985fe4d43b58c075e5d0e5debec",
              "IPY_MODEL_2ed2317fc2304c1487bc97795c21909a"
            ],
            "layout": "IPY_MODEL_663f06f0d582484eaba2b7ac3bdd237c",
            "tabbable": null,
            "tooltip": null
          }
        },
        "78fafda2d83a4f63a49a57283d9cffc4": {
          "model_module": "@jupyter-widgets/controls",
          "model_name": "HTMLModel",
          "model_module_version": "2.0.0",
          "state": {
            "_dom_classes": [],
            "_model_module": "@jupyter-widgets/controls",
            "_model_module_version": "2.0.0",
            "_model_name": "HTMLModel",
            "_view_count": null,
            "_view_module": "@jupyter-widgets/controls",
            "_view_module_version": "2.0.0",
            "_view_name": "HTMLView",
            "description": "",
            "description_allow_html": false,
            "layout": "IPY_MODEL_5e1ddb90298a489cbd72c285e10d2328",
            "placeholder": "​",
            "style": "IPY_MODEL_7c6ad2ed8e36405b8aaa32a904af3c92",
            "tabbable": null,
            "tooltip": null,
            "value": "Downloading config.json: 100%"
          }
        },
        "078b6985fe4d43b58c075e5d0e5debec": {
          "model_module": "@jupyter-widgets/controls",
          "model_name": "FloatProgressModel",
          "model_module_version": "2.0.0",
          "state": {
            "_dom_classes": [],
            "_model_module": "@jupyter-widgets/controls",
            "_model_module_version": "2.0.0",
            "_model_name": "FloatProgressModel",
            "_view_count": null,
            "_view_module": "@jupyter-widgets/controls",
            "_view_module_version": "2.0.0",
            "_view_name": "ProgressView",
            "bar_style": "success",
            "description": "",
            "description_allow_html": false,
            "layout": "IPY_MODEL_5f51c25d458340ff982f777f02331f53",
            "max": 481,
            "min": 0,
            "orientation": "horizontal",
            "style": "IPY_MODEL_2d809fb7262b4e379a793f8df6282389",
            "tabbable": null,
            "tooltip": null,
            "value": 481
          }
        },
        "2ed2317fc2304c1487bc97795c21909a": {
          "model_module": "@jupyter-widgets/controls",
          "model_name": "HTMLModel",
          "model_module_version": "2.0.0",
          "state": {
            "_dom_classes": [],
            "_model_module": "@jupyter-widgets/controls",
            "_model_module_version": "2.0.0",
            "_model_name": "HTMLModel",
            "_view_count": null,
            "_view_module": "@jupyter-widgets/controls",
            "_view_module_version": "2.0.0",
            "_view_name": "HTMLView",
            "description": "",
            "description_allow_html": false,
            "layout": "IPY_MODEL_2bba47a0c4314e489f6b99a3404235e7",
            "placeholder": "​",
            "style": "IPY_MODEL_e4b9c3c711744d319772857b64715fd6",
            "tabbable": null,
            "tooltip": null,
            "value": " 481/481 [00:00&lt;00:00, 2.68kB/s]"
          }
        },
        "663f06f0d582484eaba2b7ac3bdd237c": {
          "model_module": "@jupyter-widgets/base",
          "model_name": "LayoutModel",
          "model_module_version": "2.0.0",
          "state": {
            "_model_module": "@jupyter-widgets/base",
            "_model_module_version": "2.0.0",
            "_model_name": "LayoutModel",
            "_view_count": null,
            "_view_module": "@jupyter-widgets/base",
            "_view_module_version": "2.0.0",
            "_view_name": "LayoutView",
            "align_content": null,
            "align_items": null,
            "align_self": null,
            "border_bottom": null,
            "border_left": null,
            "border_right": null,
            "border_top": null,
            "bottom": null,
            "display": null,
            "flex": null,
            "flex_flow": null,
            "grid_area": null,
            "grid_auto_columns": null,
            "grid_auto_flow": null,
            "grid_auto_rows": null,
            "grid_column": null,
            "grid_gap": null,
            "grid_row": null,
            "grid_template_areas": null,
            "grid_template_columns": null,
            "grid_template_rows": null,
            "height": null,
            "justify_content": null,
            "justify_items": null,
            "left": null,
            "margin": null,
            "max_height": null,
            "max_width": null,
            "min_height": null,
            "min_width": null,
            "object_fit": null,
            "object_position": null,
            "order": null,
            "overflow": null,
            "padding": null,
            "right": null,
            "top": null,
            "visibility": null,
            "width": null
          }
        },
        "5e1ddb90298a489cbd72c285e10d2328": {
          "model_module": "@jupyter-widgets/base",
          "model_name": "LayoutModel",
          "model_module_version": "2.0.0",
          "state": {
            "_model_module": "@jupyter-widgets/base",
            "_model_module_version": "2.0.0",
            "_model_name": "LayoutModel",
            "_view_count": null,
            "_view_module": "@jupyter-widgets/base",
            "_view_module_version": "2.0.0",
            "_view_name": "LayoutView",
            "align_content": null,
            "align_items": null,
            "align_self": null,
            "border_bottom": null,
            "border_left": null,
            "border_right": null,
            "border_top": null,
            "bottom": null,
            "display": null,
            "flex": null,
            "flex_flow": null,
            "grid_area": null,
            "grid_auto_columns": null,
            "grid_auto_flow": null,
            "grid_auto_rows": null,
            "grid_column": null,
            "grid_gap": null,
            "grid_row": null,
            "grid_template_areas": null,
            "grid_template_columns": null,
            "grid_template_rows": null,
            "height": null,
            "justify_content": null,
            "justify_items": null,
            "left": null,
            "margin": null,
            "max_height": null,
            "max_width": null,
            "min_height": null,
            "min_width": null,
            "object_fit": null,
            "object_position": null,
            "order": null,
            "overflow": null,
            "padding": null,
            "right": null,
            "top": null,
            "visibility": null,
            "width": null
          }
        },
        "7c6ad2ed8e36405b8aaa32a904af3c92": {
          "model_module": "@jupyter-widgets/controls",
          "model_name": "HTMLStyleModel",
          "model_module_version": "2.0.0",
          "state": {
            "_model_module": "@jupyter-widgets/controls",
            "_model_module_version": "2.0.0",
            "_model_name": "HTMLStyleModel",
            "_view_count": null,
            "_view_module": "@jupyter-widgets/base",
            "_view_module_version": "2.0.0",
            "_view_name": "StyleView",
            "background": null,
            "description_width": "",
            "font_size": null,
            "text_color": null
          }
        },
        "5f51c25d458340ff982f777f02331f53": {
          "model_module": "@jupyter-widgets/base",
          "model_name": "LayoutModel",
          "model_module_version": "2.0.0",
          "state": {
            "_model_module": "@jupyter-widgets/base",
            "_model_module_version": "2.0.0",
            "_model_name": "LayoutModel",
            "_view_count": null,
            "_view_module": "@jupyter-widgets/base",
            "_view_module_version": "2.0.0",
            "_view_name": "LayoutView",
            "align_content": null,
            "align_items": null,
            "align_self": null,
            "border_bottom": null,
            "border_left": null,
            "border_right": null,
            "border_top": null,
            "bottom": null,
            "display": null,
            "flex": null,
            "flex_flow": null,
            "grid_area": null,
            "grid_auto_columns": null,
            "grid_auto_flow": null,
            "grid_auto_rows": null,
            "grid_column": null,
            "grid_gap": null,
            "grid_row": null,
            "grid_template_areas": null,
            "grid_template_columns": null,
            "grid_template_rows": null,
            "height": null,
            "justify_content": null,
            "justify_items": null,
            "left": null,
            "margin": null,
            "max_height": null,
            "max_width": null,
            "min_height": null,
            "min_width": null,
            "object_fit": null,
            "object_position": null,
            "order": null,
            "overflow": null,
            "padding": null,
            "right": null,
            "top": null,
            "visibility": null,
            "width": null
          }
        },
        "2d809fb7262b4e379a793f8df6282389": {
          "model_module": "@jupyter-widgets/controls",
          "model_name": "ProgressStyleModel",
          "model_module_version": "2.0.0",
          "state": {
            "_model_module": "@jupyter-widgets/controls",
            "_model_module_version": "2.0.0",
            "_model_name": "ProgressStyleModel",
            "_view_count": null,
            "_view_module": "@jupyter-widgets/base",
            "_view_module_version": "2.0.0",
            "_view_name": "StyleView",
            "bar_color": null,
            "description_width": ""
          }
        },
        "2bba47a0c4314e489f6b99a3404235e7": {
          "model_module": "@jupyter-widgets/base",
          "model_name": "LayoutModel",
          "model_module_version": "2.0.0",
          "state": {
            "_model_module": "@jupyter-widgets/base",
            "_model_module_version": "2.0.0",
            "_model_name": "LayoutModel",
            "_view_count": null,
            "_view_module": "@jupyter-widgets/base",
            "_view_module_version": "2.0.0",
            "_view_name": "LayoutView",
            "align_content": null,
            "align_items": null,
            "align_self": null,
            "border_bottom": null,
            "border_left": null,
            "border_right": null,
            "border_top": null,
            "bottom": null,
            "display": null,
            "flex": null,
            "flex_flow": null,
            "grid_area": null,
            "grid_auto_columns": null,
            "grid_auto_flow": null,
            "grid_auto_rows": null,
            "grid_column": null,
            "grid_gap": null,
            "grid_row": null,
            "grid_template_areas": null,
            "grid_template_columns": null,
            "grid_template_rows": null,
            "height": null,
            "justify_content": null,
            "justify_items": null,
            "left": null,
            "margin": null,
            "max_height": null,
            "max_width": null,
            "min_height": null,
            "min_width": null,
            "object_fit": null,
            "object_position": null,
            "order": null,
            "overflow": null,
            "padding": null,
            "right": null,
            "top": null,
            "visibility": null,
            "width": null
          }
        },
        "e4b9c3c711744d319772857b64715fd6": {
          "model_module": "@jupyter-widgets/controls",
          "model_name": "HTMLStyleModel",
          "model_module_version": "2.0.0",
          "state": {
            "_model_module": "@jupyter-widgets/controls",
            "_model_module_version": "2.0.0",
            "_model_name": "HTMLStyleModel",
            "_view_count": null,
            "_view_module": "@jupyter-widgets/base",
            "_view_module_version": "2.0.0",
            "_view_name": "StyleView",
            "background": null,
            "description_width": "",
            "font_size": null,
            "text_color": null
          }
        },
        "c56206d4461b4474b30d6db4be0cd400": {
          "model_module": "@jupyter-widgets/controls",
          "model_name": "HBoxModel",
          "model_module_version": "2.0.0",
          "state": {
            "_dom_classes": [],
            "_model_module": "@jupyter-widgets/controls",
            "_model_module_version": "2.0.0",
            "_model_name": "HBoxModel",
            "_view_count": null,
            "_view_module": "@jupyter-widgets/controls",
            "_view_module_version": "2.0.0",
            "_view_name": "HBoxView",
            "box_style": "",
            "children": [
              "IPY_MODEL_043349fe99c74bb385690a73470621e3",
              "IPY_MODEL_46d5a33b094e40a29742828211efdb1f",
              "IPY_MODEL_9dffae5cc0bd495899dcac319e7d51d1"
            ],
            "layout": "IPY_MODEL_f71896e6bf6443b48a161cd342b055e6",
            "tabbable": null,
            "tooltip": null
          }
        },
        "043349fe99c74bb385690a73470621e3": {
          "model_module": "@jupyter-widgets/controls",
          "model_name": "HTMLModel",
          "model_module_version": "2.0.0",
          "state": {
            "_dom_classes": [],
            "_model_module": "@jupyter-widgets/controls",
            "_model_module_version": "2.0.0",
            "_model_name": "HTMLModel",
            "_view_count": null,
            "_view_module": "@jupyter-widgets/controls",
            "_view_module_version": "2.0.0",
            "_view_name": "HTMLView",
            "description": "",
            "description_allow_html": false,
            "layout": "IPY_MODEL_97752e79b4f54d2c911cefbc076d2510",
            "placeholder": "​",
            "style": "IPY_MODEL_3500f1f2f5354733884c70c1ff3d78bb",
            "tabbable": null,
            "tooltip": null,
            "value": "Downloading pytorch_model.bin: 100%"
          }
        },
        "46d5a33b094e40a29742828211efdb1f": {
          "model_module": "@jupyter-widgets/controls",
          "model_name": "FloatProgressModel",
          "model_module_version": "2.0.0",
          "state": {
            "_dom_classes": [],
            "_model_module": "@jupyter-widgets/controls",
            "_model_module_version": "2.0.0",
            "_model_name": "FloatProgressModel",
            "_view_count": null,
            "_view_module": "@jupyter-widgets/controls",
            "_view_module_version": "2.0.0",
            "_view_name": "ProgressView",
            "bar_style": "success",
            "description": "",
            "description_allow_html": false,
            "layout": "IPY_MODEL_669c326ef048496cb2c4a7b097b27bd3",
            "max": 501200538,
            "min": 0,
            "orientation": "horizontal",
            "style": "IPY_MODEL_56ba8154fca0401c89ad380809d722d2",
            "tabbable": null,
            "tooltip": null,
            "value": 501200538
          }
        },
        "9dffae5cc0bd495899dcac319e7d51d1": {
          "model_module": "@jupyter-widgets/controls",
          "model_name": "HTMLModel",
          "model_module_version": "2.0.0",
          "state": {
            "_dom_classes": [],
            "_model_module": "@jupyter-widgets/controls",
            "_model_module_version": "2.0.0",
            "_model_name": "HTMLModel",
            "_view_count": null,
            "_view_module": "@jupyter-widgets/controls",
            "_view_module_version": "2.0.0",
            "_view_name": "HTMLView",
            "description": "",
            "description_allow_html": false,
            "layout": "IPY_MODEL_5243df14d1ee4e8fb9d00e27aa8e49c0",
            "placeholder": "​",
            "style": "IPY_MODEL_e42a98708e644aed8f06f3ea1a85ba47",
            "tabbable": null,
            "tooltip": null,
            "value": " 478M/478M [00:09&lt;00:00, 56.2MB/s]"
          }
        },
        "f71896e6bf6443b48a161cd342b055e6": {
          "model_module": "@jupyter-widgets/base",
          "model_name": "LayoutModel",
          "model_module_version": "2.0.0",
          "state": {
            "_model_module": "@jupyter-widgets/base",
            "_model_module_version": "2.0.0",
            "_model_name": "LayoutModel",
            "_view_count": null,
            "_view_module": "@jupyter-widgets/base",
            "_view_module_version": "2.0.0",
            "_view_name": "LayoutView",
            "align_content": null,
            "align_items": null,
            "align_self": null,
            "border_bottom": null,
            "border_left": null,
            "border_right": null,
            "border_top": null,
            "bottom": null,
            "display": null,
            "flex": null,
            "flex_flow": null,
            "grid_area": null,
            "grid_auto_columns": null,
            "grid_auto_flow": null,
            "grid_auto_rows": null,
            "grid_column": null,
            "grid_gap": null,
            "grid_row": null,
            "grid_template_areas": null,
            "grid_template_columns": null,
            "grid_template_rows": null,
            "height": null,
            "justify_content": null,
            "justify_items": null,
            "left": null,
            "margin": null,
            "max_height": null,
            "max_width": null,
            "min_height": null,
            "min_width": null,
            "object_fit": null,
            "object_position": null,
            "order": null,
            "overflow": null,
            "padding": null,
            "right": null,
            "top": null,
            "visibility": null,
            "width": null
          }
        },
        "97752e79b4f54d2c911cefbc076d2510": {
          "model_module": "@jupyter-widgets/base",
          "model_name": "LayoutModel",
          "model_module_version": "2.0.0",
          "state": {
            "_model_module": "@jupyter-widgets/base",
            "_model_module_version": "2.0.0",
            "_model_name": "LayoutModel",
            "_view_count": null,
            "_view_module": "@jupyter-widgets/base",
            "_view_module_version": "2.0.0",
            "_view_name": "LayoutView",
            "align_content": null,
            "align_items": null,
            "align_self": null,
            "border_bottom": null,
            "border_left": null,
            "border_right": null,
            "border_top": null,
            "bottom": null,
            "display": null,
            "flex": null,
            "flex_flow": null,
            "grid_area": null,
            "grid_auto_columns": null,
            "grid_auto_flow": null,
            "grid_auto_rows": null,
            "grid_column": null,
            "grid_gap": null,
            "grid_row": null,
            "grid_template_areas": null,
            "grid_template_columns": null,
            "grid_template_rows": null,
            "height": null,
            "justify_content": null,
            "justify_items": null,
            "left": null,
            "margin": null,
            "max_height": null,
            "max_width": null,
            "min_height": null,
            "min_width": null,
            "object_fit": null,
            "object_position": null,
            "order": null,
            "overflow": null,
            "padding": null,
            "right": null,
            "top": null,
            "visibility": null,
            "width": null
          }
        },
        "3500f1f2f5354733884c70c1ff3d78bb": {
          "model_module": "@jupyter-widgets/controls",
          "model_name": "HTMLStyleModel",
          "model_module_version": "2.0.0",
          "state": {
            "_model_module": "@jupyter-widgets/controls",
            "_model_module_version": "2.0.0",
            "_model_name": "HTMLStyleModel",
            "_view_count": null,
            "_view_module": "@jupyter-widgets/base",
            "_view_module_version": "2.0.0",
            "_view_name": "StyleView",
            "background": null,
            "description_width": "",
            "font_size": null,
            "text_color": null
          }
        },
        "669c326ef048496cb2c4a7b097b27bd3": {
          "model_module": "@jupyter-widgets/base",
          "model_name": "LayoutModel",
          "model_module_version": "2.0.0",
          "state": {
            "_model_module": "@jupyter-widgets/base",
            "_model_module_version": "2.0.0",
            "_model_name": "LayoutModel",
            "_view_count": null,
            "_view_module": "@jupyter-widgets/base",
            "_view_module_version": "2.0.0",
            "_view_name": "LayoutView",
            "align_content": null,
            "align_items": null,
            "align_self": null,
            "border_bottom": null,
            "border_left": null,
            "border_right": null,
            "border_top": null,
            "bottom": null,
            "display": null,
            "flex": null,
            "flex_flow": null,
            "grid_area": null,
            "grid_auto_columns": null,
            "grid_auto_flow": null,
            "grid_auto_rows": null,
            "grid_column": null,
            "grid_gap": null,
            "grid_row": null,
            "grid_template_areas": null,
            "grid_template_columns": null,
            "grid_template_rows": null,
            "height": null,
            "justify_content": null,
            "justify_items": null,
            "left": null,
            "margin": null,
            "max_height": null,
            "max_width": null,
            "min_height": null,
            "min_width": null,
            "object_fit": null,
            "object_position": null,
            "order": null,
            "overflow": null,
            "padding": null,
            "right": null,
            "top": null,
            "visibility": null,
            "width": null
          }
        },
        "56ba8154fca0401c89ad380809d722d2": {
          "model_module": "@jupyter-widgets/controls",
          "model_name": "ProgressStyleModel",
          "model_module_version": "2.0.0",
          "state": {
            "_model_module": "@jupyter-widgets/controls",
            "_model_module_version": "2.0.0",
            "_model_name": "ProgressStyleModel",
            "_view_count": null,
            "_view_module": "@jupyter-widgets/base",
            "_view_module_version": "2.0.0",
            "_view_name": "StyleView",
            "bar_color": null,
            "description_width": ""
          }
        },
        "5243df14d1ee4e8fb9d00e27aa8e49c0": {
          "model_module": "@jupyter-widgets/base",
          "model_name": "LayoutModel",
          "model_module_version": "2.0.0",
          "state": {
            "_model_module": "@jupyter-widgets/base",
            "_model_module_version": "2.0.0",
            "_model_name": "LayoutModel",
            "_view_count": null,
            "_view_module": "@jupyter-widgets/base",
            "_view_module_version": "2.0.0",
            "_view_name": "LayoutView",
            "align_content": null,
            "align_items": null,
            "align_self": null,
            "border_bottom": null,
            "border_left": null,
            "border_right": null,
            "border_top": null,
            "bottom": null,
            "display": null,
            "flex": null,
            "flex_flow": null,
            "grid_area": null,
            "grid_auto_columns": null,
            "grid_auto_flow": null,
            "grid_auto_rows": null,
            "grid_column": null,
            "grid_gap": null,
            "grid_row": null,
            "grid_template_areas": null,
            "grid_template_columns": null,
            "grid_template_rows": null,
            "height": null,
            "justify_content": null,
            "justify_items": null,
            "left": null,
            "margin": null,
            "max_height": null,
            "max_width": null,
            "min_height": null,
            "min_width": null,
            "object_fit": null,
            "object_position": null,
            "order": null,
            "overflow": null,
            "padding": null,
            "right": null,
            "top": null,
            "visibility": null,
            "width": null
          }
        },
        "e42a98708e644aed8f06f3ea1a85ba47": {
          "model_module": "@jupyter-widgets/controls",
          "model_name": "HTMLStyleModel",
          "model_module_version": "2.0.0",
          "state": {
            "_model_module": "@jupyter-widgets/controls",
            "_model_module_version": "2.0.0",
            "_model_name": "HTMLStyleModel",
            "_view_count": null,
            "_view_module": "@jupyter-widgets/base",
            "_view_module_version": "2.0.0",
            "_view_name": "StyleView",
            "background": null,
            "description_width": "",
            "font_size": null,
            "text_color": null
          }
        }
      }
    }
  },
  "cells": [
    {
      "cell_type": "code",
      "source": [
        "!pip install bs4\n",
        "\n",
        "import bs4\n",
        "from bs4 import BeautifulSoup\n",
        "import requests\n",
        "\n",
        "#Getting HTML content for a given url\n",
        "def get_soup(url):\n",
        "  try:\n",
        "    r = requests.get(url)\n",
        "  except ConnectionError:\n",
        "    print(f\"Connection error for {url}\")\n",
        "  #print(r.content)\n",
        "\n",
        "  #print(soup.prettify())\n",
        "  return BeautifulSoup(r.content, 'lxml')"
      ],
      "metadata": {
        "colab": {
          "base_uri": "https://localhost:8080/"
        },
        "id": "qIu2pd5BT2-_",
        "outputId": "828092e8-377d-4931-a9a6-9307cd90925c"
      },
      "execution_count": 3,
      "outputs": [
        {
          "output_type": "stream",
          "name": "stdout",
          "text": [
            "Looking in indexes: https://pypi.org/simple, https://us-python.pkg.dev/colab-wheels/public/simple/\n",
            "Requirement already satisfied: bs4 in /usr/local/lib/python3.7/dist-packages (0.0.1)\n",
            "Requirement already satisfied: beautifulsoup4 in /usr/local/lib/python3.7/dist-packages (from bs4) (4.6.3)\n"
          ]
        }
      ]
    },
    {
      "cell_type": "code",
      "source": [
        "bookmark_soup = BeautifulSoup(open(\"/content/Sample_Bookmark.html\", encoding=\"utf8\"), \"html.parser\")\n",
        "\n",
        "url_list=[]\n",
        "for link in bookmark_soup.findAll('a'):\n",
        "    url_list.append(link.get('href'))"
      ],
      "metadata": {
        "id": "4zPwbkvDxnfE"
      },
      "execution_count": 4,
      "outputs": []
    },
    {
      "cell_type": "code",
      "source": [
        "url_soup = get_soup(url_list[0])\n",
        "for script in url_soup(['script', 'style']):\n",
        "    script.extract()\n",
        "training_source = url_soup.get_text(' ', strip=True)\n",
        "training_source"
      ],
      "metadata": {
        "id": "n7eir7-DAfXu",
        "colab": {
          "base_uri": "https://localhost:8080/",
          "height": 191
        },
        "outputId": "490023ff-655c-460d-f0cc-76a63567a693"
      },
      "execution_count": 5,
      "outputs": [
        {
          "output_type": "execute_result",
          "data": {
            "text/plain": [
              "'Interactive Q&A Bot with RASA + Haystack + RoBERTa | by saritapadoshi | Medium Get unlimited access Open in app Home Notifications Lists Stories Write saritapadoshi Follow May 15, 2021 · 8 min read Interactive Q&A Bot with RASA + Haystack + RoBERTa In this article, I plan to present the steps in creating an interactive bot for ‘Question and Answer’ model with K12 education knowledge base, using pre-trained Hugging Face transformer model ( RoBERTa ), fine tuned with SQUAD 2.0 Q&A data set. The solution also makes use of Haystack framework for document retrieval and reader pipeline creation and Rasa for chat bot front-end framework to keep the interaction natural. Architecture 1. Why BERT Transformer model ? Transformers in general apply attention mechanisms to gather information about the relevant context of words, and then encode that context in a rich vector that smartly represents the word in parallel compared to LSTM or RNN. BERT ( Bidirectional Encoder Representations from Transformers ) is a bi-directional transformer for pre-training over a lot of unlabeled textual data to learn a language representation that can be used to fine-tune for specific machine learning tasks. BERT models can process words in relation to all the other words in a sentence, rather than one-by-one in order.They can therefore consider the full context of a word by looking at the words that come before and after it — particularly useful for understanding the intent behind search queries. In addition we can choose an already available pre-trained BERT models for transfer learning for faster deployment with fine tuning. A major advantage of pre-trained models is their ability to adapt to specific tasks by using relatively small amounts of labeled data, compared to training a model from scratch (see Figure 1). Accuracy vs. number of training samples for a sentence-level sentiment-classification task. The baseline blue line represents training from scratch and the orange line represents fine-tuning a pre-trained BERT model. Source: “ Using Transfer Learning for NLP with Small Data ” 2 . Advantages of using Haystack framework Haystack is a framework that enables building powerful and production-ready pipelines for different search use cases including Closed Domain Question Answers (CDQA). State-of-the-Art NLP models including Hugging Face pre-trained transformer models in Haystack provide faster training and creating a unique search experience which can allow users to query in natural language. Haystack employs Elasticsearch retriever that can search relevant documents from the entire document store and retrieve a set of candidate documents speeding up the querying process. Diverse models like BERT, RoBERTa, FARM trained models work on datasets like SQuAD can be configured as reader . These models can work on multiple passages of text as input and return top-n answers with corresponding confidence scores.Also the framework enables to create labels with different techniques: Annotate text with questions (+ answers) while reading passages in SQuAD style, Have a set of predefined questions and answers in the document (~ Natural Questions). 3. Advantages of using Rasa For the Q&A-Bot framework, an interactive UI was needed and Rasa stands alone in many areas with their unique approach.While its easy to integrate and customize Rasa, the custom and pre-trained intents came in handy to understand the user’s request. RASA Actionserver enables you to call an endpoint and you can specify when a custom action is predicted. This endpoint runs the code and returns the information for the requested action and maintains dialogue state. RASA also provides timeout flexibility without breaking the conversation flow while response are generated by the model. Solution steps 1. Data Collection The subject content was collected from the web-link as pdf files. import urllib.request url_path = \"SUBJECT_CONTENT_LINK\" def download_file(download_url, filename): response = urllib.request.urlopen(download_url) file = open(filename + \".pdf\", \\'wb\\') file.write(response.read()) file.close() download_file(url_path, \"Textbooks\") 2. Data Wrangling A right pre-processing steps on the text documents can have a great impact on the accuracy and the speed of the model. The following pre-processing steps were followed on all the data files — Extract text from the files, Normalize white spaces, Clear header_footer , Split text from files into smaller sentences, Remove empty lines, Text normalization. Preprocessing as directed in Haystack : converter = PDFToTextConverter(remove_numeric_tables=True, valid_languages=[\"en\"]) doc_pdf = converter.convert(file_path=\"Textbooks.pdf\", meta=None) # Haystack also has a convenience function that will automatically apply the right converter to each file in a directory. all_docs = convert_files_to_dicts(dir_path=\"data/Textbook_data\") 3. Pre-trained model selection The pretrained models listed below were chosen as model candidates. roberta-base-squad2 12-layer, 768-hidden, 12-heads, 125M parameters RoBERTa using the BERT-base architecture distilbert-base-uncased 6-layer, 768-hidden, 12-heads, 66M parameters The DistilBERT model distilled from the BERT model bert-base-uncased checkpoint miniLM 12-layer, 384-hidden, 12-heads, 21M parameters, 96M embedding parameters MiniLM using the BERT-base architecture 4. Preparing for Fine tuning model : Annotation Haystack Annotation tool was extensively used and as many as 1000+ closed domain questions and answers were annotated for training and evaluation of the model.The output from the annotation tool is a SQuAD 2.0 json file which can be used to fine tune the model. Haystack Annotation tool to generate question and answer pairs The json file ‘ annotated_train_answers.json ’ containing the question, answer pairs was used to fine tune the model. 5. Fine-tuning All the three pre-trained models were fine-tuned with annotated question-answer data (Step 4) on the below hardware configuration and performances were compared. Fine tuning the model as directed in Haystack: train_data = \"data/Textbook_data\" device, n_gpu = initialize_device_settings(use_cuda=True) # Initialize the reader model reader = FARMReader(model_name_or_path=\"model\", use_gpu=True) reader.train( data_dir=train_data, train_filename=\"annotated_train_answers.json\"\", n_epochs=4, dev_split = 0.3, save_dir=\"model\") reader_train_eval_results = reader.eval_on_file(data_dir=train_data, test_filename=\"annotated_train_answers.json\",device=device) print(\"Accuracy:\" ,reader_train_eval_results[\"top_n_accuracy\"]) print(\"F1-Score:\", reader_train_eval_results[\"f1\"]) Model performance compared RoBERTa model whose performance was superior compared to the others was selected. 6. Creating Elastic-search image for Q&A document base Next step was to create an Elasticsearch docker image for the closed-domain documents gathered. status = subprocess.run([\\'docker run -d -p 9200:9200 -e \"discovery.type=single-node\" elasticsearch:7.9.2\\'], shell=True) time.sleep(15) ### Connect to Elasticsearch document_store = ElasticsearchDocumentStore(host=\"localhost\", username=\"\", password=\"\", index=\"class\") files_dir = \"Textbook_data/*.pdf\" dicts     = convert_files_to_dicts(dir_path=files_dir, clean_func  =clean_wiki_text,split_paragraphs=True) document_store.write_documents(dicts) Ensure a new docker container is created after the above code is executed using the command $docker ps -a. Can commit this docker image with a tag ( version/index name ) and for future uses. 7. Making the model up : FAST API and Docker file A FAST API method was implemented to handle action from Rasa( accept HTTP POST request ). The response to the query, is then sent back to the Rasa action a s HTTP RESPONSE . @router.post(\"/new_query\") def new_query(request: IntentRequest): queryText = request.queryText model_id :int = MODEL_ID k_reader: int = DEFAULT_TOP_K_READER k_retriever: int = DEFAULT_TOP_K_RETRIEVER with doc_qa_limiter.run(): start_time = time.time() finder = FINDERS.get(model_id, None) data = {\\'questions\\':[question],\\'filters\\':None, \\'top_k_reader\\':k_reader,\\'top_k_retriever\\':k_retriever} myQuestion = Question(**data) answers = search_documents(finder, myQuestion, start_time) answerText=\"No answer available..\" if answers and len(answers) > 0: answerText = AnswerTextFromResults(dict(answers[0])) return {\\'fulfillmentText\\': answerText} The Haystack dockerfile was then updated with the new Rest API. In the Haystack dockerfile.yml update the model to fine-tuned RoBERTa model, Elasticsearch image to the new image with profiled Q&A document-store and Streamlit UI and now the framework is ready. version: \"3\" services: haystack-api: build: context: . dockerfile: Dockerfile ports: - 8000:8000 volumes: # Folder for mounting fine-tuned mode - \"./models:/home/user/models\" environment: - DB_HOST=elasticsearch - USE_GPU=True - TOP_K_PER_SAMPLE=3 # how many answers can come from the same small passage (reduce value for more variety of answers) restart: always depends_on: - elasticsearch command: \"/bin/bash -c \\'sleep 50 && gunicorn rest_api.application:app -b 0.0.0.0 -k uvicorn.workers.Uvicorn Worker --workers 1 --timeout 180 --preload\\'\" elasticsearch: # Load the new elastic search image with closed domain question-answer documents image: \"q-and-a:version1\" ports: - 9200:9200 environment: - discovery.type=single-node ui: # For Testing the API image: \"deepset/haystack-streamlit-ui\" ports: - 8501:8501 environment: - API_ENDPOINT=http://haystack-api:8000 8. Designing and Integrating RASA chat-bot framework With model done with FAST API hosting, now a Rasa project created. rules.yml file edited to add an intent so that the Rasa action server is delegated to handle domain specific Q&A . - rule: Ask the user to rephrase whenever they send a message with low NLU confidence steps: - intent: nlu_fallback - action: action_intent_question Edit the actions.py as below to invoke the new FAST API created in Haystack and handle back the response from the FAST API ( answers to domain specific questions) class ActionHelloWorld(Action): def name(self) -> Text: return \"action_intent_question\" def run(self, dispatcher: CollectingDispatcher, tracker: Tracker, domain: Dict[Text, Any]) -> List[Dict[Text, Any]]: message = tracker.latest_message.get(\\'text\\') url = \"http://localhost:8000/XXX_haystack-api\" data = {\\'queryText\\': message} headers = {\\'Content-type\\': \\'application/json\\', \\'Accept\\': \\'text/plain\\'} response = requests.post(url, data=json.dumps(data), headers=headers) data = response.json() dispatcher.utter_message(text=data[\\'fulfillmentText\\']) return [] 9. Fine tuning Rasa NLU model Rasa core NLU model was fine-tuned with following hyper parameters defined in config.yml Configuration for Rasa NLU. language: en pipeline: - name: WhitespaceTokenizer - name: RegexFeaturizer - name: LexicalSyntacticFeaturizer - name: CountVectorsFeaturizer - name: CountVectorsFeaturizer analyzer: char_wb min_ngram: 1 max_ngram: 4 - name: DIETClassifier epochs: 100 constrain_similarities: true - name: EntitySynonymMapper - name: ResponseSelector epochs: 100 constrain_similarities: true - name: FallbackClassifier threshold: 0.9 10. Final Deployment with Rasa X front end Run the docker-compose.yml file in Haystack which will bring the model up and running along with Elastic-search based retriever . In the Rasa actions folder invoke $ rasa run actions to start RasaActionServer. Finally invoke ‘rasa x’ and choose the Rasa fine tuned NLU model to bring up the chat-bot UI interaction. Rasa was now able to handle generic greeting messages as well as domain specific Q&A seamlessly as shown below. Conclusion This post demonstrates that with a pre-trained BERT model and Haystack framework one can create a high quality and deployable model for Question-Answering extremely fast and accurately. Further integrating Rasa core and Actionserver , we can create scalable and flexible chat-bot dialog management system which can be further fine-tuned as well as integrated with many front end applications. Please feel free to post back your queries or suggestions. Reference [1] Haystack Deepset ai https://haystack.deepset.ai [2] Rasa https://rasa.com [3] Creating Rasa chatbot using action server https://towardsdatascience.com/create-chatbot-using-rasa-part-1-67f68e89ddad [4] Deepset AI github https://github.com/deepset-ai/haystack -- -- 2 More from saritapadoshi Follow Data scientist with interest in NLP and Deep learning. Love podcasts or audiobooks? Learn on the go with our new app. Try Knowable Recommended from Medium Gunjan Chhablani Support Vector Machines\\xa0: Part 1 Amar Fadil Ethical Machine Learning: An Insight for a VUCA World Challenge Sam Yang Tme series forecasting in Python Nikita Johnson Machine Learning for DevOps and Applied AI\\u200a—\\u200awhat we learned in Houston today Tarsh Sahu Automatic License Plate Detection and Recognition(ALPR) David Burton in Analytics Vidhya Using NLP to Optimize Learning a Foreign Language. Chelsea Lee in StradVision Applying SVNet to Social Distance? Özge Evaluation Metrics for Machine Learning Algorithms— Part 1 About Help Terms Privacy Get the Medium app Get started saritapadoshi 8 Followers Data scientist with interest in NLP and Deep learning. Follow More from Medium Uppu Rajesh Kumar Build an NLP extractive Question-Answer web application Jyoti Bisht in Jina AI Jina Rewind ⬅️ Core gets an Upgrade, Custom filtering for DocArray! Adarsh Anand Document Similarity Using Cosine Similarity Jordi Cabot How to build your own chatbot intent classifier Help Status Writers Blog Careers Privacy Terms About Knowable'"
            ],
            "application/vnd.google.colaboratory.intrinsic+json": {
              "type": "string"
            }
          },
          "metadata": {},
          "execution_count": 5
        }
      ]
    },
    {
      "cell_type": "code",
      "source": [
        "train_text = training_source.split('.')\n",
        "for i in range(len(train_text)):\n",
        "  train_text[i] += '.'"
      ],
      "metadata": {
        "id": "wB74c9Kr9zaZ"
      },
      "execution_count": 6,
      "outputs": []
    },
    {
      "cell_type": "code",
      "source": [
        "!pip install transformers"
      ],
      "metadata": {
        "colab": {
          "base_uri": "https://localhost:8080/"
        },
        "id": "CN1ljuYz_7L5",
        "outputId": "f20a743d-dd6e-474a-9d3b-ed54c10a2afe"
      },
      "execution_count": 7,
      "outputs": [
        {
          "output_type": "stream",
          "name": "stdout",
          "text": [
            "Looking in indexes: https://pypi.org/simple, https://us-python.pkg.dev/colab-wheels/public/simple/\n",
            "Collecting transformers\n",
            "  Downloading transformers-4.21.1-py3-none-any.whl (4.7 MB)\n",
            "\u001b[K     |████████████████████████████████| 4.7 MB 19.4 MB/s \n",
            "\u001b[?25hCollecting tokenizers!=0.11.3,<0.13,>=0.11.1\n",
            "  Downloading tokenizers-0.12.1-cp37-cp37m-manylinux_2_12_x86_64.manylinux2010_x86_64.whl (6.6 MB)\n",
            "\u001b[K     |████████████████████████████████| 6.6 MB 61.3 MB/s \n",
            "\u001b[?25hRequirement already satisfied: packaging>=20.0 in /usr/local/lib/python3.7/dist-packages (from transformers) (21.3)\n",
            "Requirement already satisfied: importlib-metadata in /usr/local/lib/python3.7/dist-packages (from transformers) (4.12.0)\n",
            "Requirement already satisfied: pyyaml>=5.1 in /usr/local/lib/python3.7/dist-packages (from transformers) (6.0)\n",
            "Requirement already satisfied: filelock in /usr/local/lib/python3.7/dist-packages (from transformers) (3.8.0)\n",
            "Requirement already satisfied: requests in /usr/local/lib/python3.7/dist-packages (from transformers) (2.23.0)\n",
            "Requirement already satisfied: numpy>=1.17 in /usr/local/lib/python3.7/dist-packages (from transformers) (1.21.6)\n",
            "Requirement already satisfied: regex!=2019.12.17 in /usr/local/lib/python3.7/dist-packages (from transformers) (2022.6.2)\n",
            "Collecting huggingface-hub<1.0,>=0.1.0\n",
            "  Downloading huggingface_hub-0.8.1-py3-none-any.whl (101 kB)\n",
            "\u001b[K     |████████████████████████████████| 101 kB 12.9 MB/s \n",
            "\u001b[?25hRequirement already satisfied: tqdm>=4.27 in /usr/local/lib/python3.7/dist-packages (from transformers) (4.64.0)\n",
            "Requirement already satisfied: typing-extensions>=3.7.4.3 in /usr/local/lib/python3.7/dist-packages (from huggingface-hub<1.0,>=0.1.0->transformers) (4.1.1)\n",
            "Requirement already satisfied: pyparsing!=3.0.5,>=2.0.2 in /usr/local/lib/python3.7/dist-packages (from packaging>=20.0->transformers) (3.0.9)\n",
            "Requirement already satisfied: zipp>=0.5 in /usr/local/lib/python3.7/dist-packages (from importlib-metadata->transformers) (3.8.1)\n",
            "Requirement already satisfied: certifi>=2017.4.17 in /usr/local/lib/python3.7/dist-packages (from requests->transformers) (2022.6.15)\n",
            "Requirement already satisfied: urllib3!=1.25.0,!=1.25.1,<1.26,>=1.21.1 in /usr/local/lib/python3.7/dist-packages (from requests->transformers) (1.24.3)\n",
            "Requirement already satisfied: idna<3,>=2.5 in /usr/local/lib/python3.7/dist-packages (from requests->transformers) (2.10)\n",
            "Requirement already satisfied: chardet<4,>=3.0.2 in /usr/local/lib/python3.7/dist-packages (from requests->transformers) (3.0.4)\n",
            "Installing collected packages: tokenizers, huggingface-hub, transformers\n",
            "Successfully installed huggingface-hub-0.8.1 tokenizers-0.12.1 transformers-4.21.1\n"
          ]
        }
      ]
    },
    {
      "cell_type": "code",
      "source": [
        "import transformers\n",
        "from transformers import RobertaTokenizer, RobertaForMaskedLM\n",
        "import torch"
      ],
      "metadata": {
        "id": "y9R-VPhM4lL0"
      },
      "execution_count": 8,
      "outputs": []
    },
    {
      "cell_type": "code",
      "source": [
        "tokenizer = RobertaTokenizer.from_pretrained(\"roberta-base\")\n",
        "model = RobertaForMaskedLM.from_pretrained(\"roberta-base\")"
      ],
      "metadata": {
        "colab": {
          "base_uri": "https://localhost:8080/",
          "height": 17,
          "referenced_widgets": [
            "aebbf6e3256c4948bd527bbbec108c73",
            "09edcabb13da443ab6bde16f7251c9b0",
            "bf218b8eee944e358710ec0c0502c59e",
            "4af8671d1dd94d7aa7f7ab5636572cd8",
            "cdb08fb4e1b7406abb21dd8915d30395",
            "8dd55272d8d84adeb2eadeac397e5f49",
            "049459f9db7d47798e40d085dae0802e",
            "5454cb1a2be34f45954194fdc2338b37",
            "76041071db2e473388df7b84d74a7ed7",
            "7e2a52e0de904715b9eb41c43218b3fd",
            "847d842c4aa14dbe8b25e404b76d891b",
            "18214f26517c47a5a2867be5635e019a",
            "974a9ecf373e4e438a43ec0e2e6c99b3",
            "c06b07f32a9e4a42b7c31315fcc5691e",
            "5f2e983777024f25ba63e9503eee8072",
            "17ece901dd8242a0adfb31cf6f381045",
            "5404b2a005454ae0a46135bb8fd2a718",
            "8f93db1d88554a069b3e137673642d7f",
            "56a8463714294bc995b0b860a7e72ccf",
            "7e713a8712ee4ae38699337ca9337d2f",
            "8ced796371a343f29be8b197669321c7",
            "b736f2fa718e45eb952d75ec4d5ab2ff",
            "9f2a5e35e83245dfbdc204477819e35c",
            "78fafda2d83a4f63a49a57283d9cffc4",
            "078b6985fe4d43b58c075e5d0e5debec",
            "2ed2317fc2304c1487bc97795c21909a",
            "663f06f0d582484eaba2b7ac3bdd237c",
            "5e1ddb90298a489cbd72c285e10d2328",
            "7c6ad2ed8e36405b8aaa32a904af3c92",
            "5f51c25d458340ff982f777f02331f53",
            "2d809fb7262b4e379a793f8df6282389",
            "2bba47a0c4314e489f6b99a3404235e7",
            "e4b9c3c711744d319772857b64715fd6",
            "c56206d4461b4474b30d6db4be0cd400",
            "043349fe99c74bb385690a73470621e3",
            "46d5a33b094e40a29742828211efdb1f",
            "9dffae5cc0bd495899dcac319e7d51d1",
            "f71896e6bf6443b48a161cd342b055e6",
            "97752e79b4f54d2c911cefbc076d2510",
            "3500f1f2f5354733884c70c1ff3d78bb",
            "669c326ef048496cb2c4a7b097b27bd3",
            "56ba8154fca0401c89ad380809d722d2",
            "5243df14d1ee4e8fb9d00e27aa8e49c0",
            "e42a98708e644aed8f06f3ea1a85ba47"
          ]
        },
        "id": "IjoKYuejAoAS",
        "outputId": "4156ee63-9244-44e9-d832-8ab0dd44fa21"
      },
      "execution_count": 9,
      "outputs": [
        {
          "output_type": "display_data",
          "data": {
            "text/plain": [
              "Downloading vocab.json:   0%|          | 0.00/878k [00:00<?, ?B/s]"
            ],
            "application/vnd.jupyter.widget-view+json": {
              "version_major": 2,
              "version_minor": 0,
              "model_id": "aebbf6e3256c4948bd527bbbec108c73"
            },
            "application/json": {
              "n": 0,
              "total": 898823,
              "elapsed": 0.018917322158813477,
              "ncols": null,
              "nrows": null,
              "prefix": "Downloading vocab.json",
              "ascii": false,
              "unit": "B",
              "unit_scale": true,
              "rate": null,
              "bar_format": null,
              "postfix": null,
              "unit_divisor": 1024,
              "initial": 0,
              "colour": null
            }
          },
          "metadata": {}
        },
        {
          "output_type": "display_data",
          "data": {
            "text/plain": [
              "Downloading merges.txt:   0%|          | 0.00/446k [00:00<?, ?B/s]"
            ],
            "application/vnd.jupyter.widget-view+json": {
              "version_major": 2,
              "version_minor": 0,
              "model_id": "18214f26517c47a5a2867be5635e019a"
            },
            "application/json": {
              "n": 0,
              "total": 456318,
              "elapsed": 0.018841981887817383,
              "ncols": null,
              "nrows": null,
              "prefix": "Downloading merges.txt",
              "ascii": false,
              "unit": "B",
              "unit_scale": true,
              "rate": null,
              "bar_format": null,
              "postfix": null,
              "unit_divisor": 1024,
              "initial": 0,
              "colour": null
            }
          },
          "metadata": {}
        },
        {
          "output_type": "display_data",
          "data": {
            "text/plain": [
              "Downloading config.json:   0%|          | 0.00/481 [00:00<?, ?B/s]"
            ],
            "application/vnd.jupyter.widget-view+json": {
              "version_major": 2,
              "version_minor": 0,
              "model_id": "9f2a5e35e83245dfbdc204477819e35c"
            },
            "application/json": {
              "n": 0,
              "total": 481,
              "elapsed": 0.16515517234802246,
              "ncols": null,
              "nrows": null,
              "prefix": "Downloading config.json",
              "ascii": false,
              "unit": "B",
              "unit_scale": true,
              "rate": null,
              "bar_format": null,
              "postfix": null,
              "unit_divisor": 1024,
              "initial": 0,
              "colour": null
            }
          },
          "metadata": {}
        },
        {
          "output_type": "display_data",
          "data": {
            "text/plain": [
              "Downloading pytorch_model.bin:   0%|          | 0.00/478M [00:00<?, ?B/s]"
            ],
            "application/vnd.jupyter.widget-view+json": {
              "version_major": 2,
              "version_minor": 0,
              "model_id": "c56206d4461b4474b30d6db4be0cd400"
            },
            "application/json": {
              "n": 0,
              "total": 501200538,
              "elapsed": 0.0549159049987793,
              "ncols": null,
              "nrows": null,
              "prefix": "Downloading pytorch_model.bin",
              "ascii": false,
              "unit": "B",
              "unit_scale": true,
              "rate": null,
              "bar_format": null,
              "postfix": null,
              "unit_divisor": 1024,
              "initial": 0,
              "colour": null
            }
          },
          "metadata": {}
        }
      ]
    },
    {
      "cell_type": "code",
      "source": [
        "inputs = tokenizer(train_text, return_tensors='pt', max_length=512, truncation=True, padding='max_length')\n",
        "inputs"
      ],
      "metadata": {
        "colab": {
          "base_uri": "https://localhost:8080/"
        },
        "id": "ORN97D6ABEc-",
        "outputId": "720da654-9226-4608-c706-e7cfe9111aae"
      },
      "execution_count": 10,
      "outputs": [
        {
          "output_type": "execute_result",
          "data": {
            "text/plain": [
              "{'input_ids': tensor([[    0, 26267, 12228,  ...,     1,     1,     1],\n",
              "        [    0,   288,  1209,  ...,     1,     1,     1],\n",
              "        [    0,    20,  2472,  ...,     1,     1,     1],\n",
              "        ...,\n",
              "        [    0, 11087, 10690,  ...,     1,     1,     1],\n",
              "        [    0,  3098,  2094,  ...,     1,     1,     1],\n",
              "        [    0,  2184,   901,  ...,     1,     1,     1]]), 'attention_mask': tensor([[1, 1, 1,  ..., 0, 0, 0],\n",
              "        [1, 1, 1,  ..., 0, 0, 0],\n",
              "        [1, 1, 1,  ..., 0, 0, 0],\n",
              "        ...,\n",
              "        [1, 1, 1,  ..., 0, 0, 0],\n",
              "        [1, 1, 1,  ..., 0, 0, 0],\n",
              "        [1, 1, 1,  ..., 0, 0, 0]])}"
            ]
          },
          "metadata": {},
          "execution_count": 10
        }
      ]
    },
    {
      "cell_type": "code",
      "source": [
        "inputs['labels'] = inputs.input_ids.detach().clone()"
      ],
      "metadata": {
        "id": "MIXxsnm9BEaV"
      },
      "execution_count": 11,
      "outputs": []
    },
    {
      "cell_type": "code",
      "source": [
        "inputs.keys()"
      ],
      "metadata": {
        "colab": {
          "base_uri": "https://localhost:8080/"
        },
        "id": "levvwEPXBEVH",
        "outputId": "4d48b147-ac81-4b8f-ebd2-e9eddabd2df9"
      },
      "execution_count": 12,
      "outputs": [
        {
          "output_type": "execute_result",
          "data": {
            "text/plain": [
              "dict_keys(['input_ids', 'attention_mask', 'labels'])"
            ]
          },
          "metadata": {},
          "execution_count": 12
        }
      ]
    },
    {
      "cell_type": "code",
      "source": [
        "# create random array of floats with equal dimensions to input_ids tensor\n",
        "rand = torch.rand(inputs.input_ids.shape)\n",
        "# create mask array\n",
        "mask_arr = (rand < 0.15) * (inputs.input_ids != 0) * \\\n",
        "           (inputs.input_ids != 2) * (inputs.input_ids != 0)"
      ],
      "metadata": {
        "id": "UgxJRhW5BESy"
      },
      "execution_count": 13,
      "outputs": []
    },
    {
      "cell_type": "code",
      "source": [
        "selection = []\n",
        "\n",
        "for i in range(inputs.input_ids.shape[0]):\n",
        "    selection.append(\n",
        "        torch.flatten(mask_arr[i].nonzero()).tolist()\n",
        "    )"
      ],
      "metadata": {
        "id": "C-h6IeirDXLs"
      },
      "execution_count": 14,
      "outputs": []
    },
    {
      "cell_type": "code",
      "source": [
        "for i in range(inputs.input_ids.shape[0]):\n",
        "    inputs.input_ids[i, selection[i]] = 103"
      ],
      "metadata": {
        "id": "t8HaDEGNDXIN"
      },
      "execution_count": 15,
      "outputs": []
    },
    {
      "cell_type": "code",
      "source": [
        "class Bookmark_Dataset(torch.utils.data.Dataset):\n",
        "    def __init__(self, encodings):\n",
        "        self.encodings = encodings\n",
        "    def __getitem__(self, idx):\n",
        "        return {key: torch.tensor(val[idx]) for key, val in self.encodings.items()}\n",
        "    def __len__(self):\n",
        "        return len(self.encodings.input_ids)"
      ],
      "metadata": {
        "id": "4BNHfNLoDXFr"
      },
      "execution_count": 16,
      "outputs": []
    },
    {
      "cell_type": "code",
      "source": [
        "dataset = Bookmark_Dataset(inputs)"
      ],
      "metadata": {
        "id": "moQY-o1oDXC-"
      },
      "execution_count": 17,
      "outputs": []
    },
    {
      "cell_type": "code",
      "source": [
        "from transformers import TrainingArguments\n",
        "\n",
        "args = TrainingArguments(\n",
        "    output_dir='out',\n",
        "    per_device_train_batch_size=8,\n",
        "    num_train_epochs=10\n",
        ")"
      ],
      "metadata": {
        "id": "ZymFoXsDDkqA"
      },
      "execution_count": 18,
      "outputs": []
    },
    {
      "cell_type": "code",
      "source": [
        "from transformers import Trainer\n",
        "\n",
        "trainer = Trainer(\n",
        "    model=model,\n",
        "    args=args,\n",
        "    train_dataset=dataset\n",
        ")"
      ],
      "metadata": {
        "id": "OTzWVS7MDkni"
      },
      "execution_count": 19,
      "outputs": []
    },
    {
      "cell_type": "code",
      "source": [
        "trainer.train()"
      ],
      "metadata": {
        "colab": {
          "base_uri": "https://localhost:8080/",
          "height": 425
        },
        "id": "0sa-B_V3Dkik",
        "outputId": "3bb180cb-1dc2-460c-b56d-6be18d39127a"
      },
      "execution_count": 20,
      "outputs": [
        {
          "output_type": "stream",
          "name": "stderr",
          "text": [
            "/usr/local/lib/python3.7/dist-packages/transformers/optimization.py:310: FutureWarning: This implementation of AdamW is deprecated and will be removed in a future version. Use the PyTorch implementation torch.optim.AdamW instead, or set `no_deprecation_warning=True` to disable this warning\n",
            "  FutureWarning,\n",
            "***** Running training *****\n",
            "  Num examples = 124\n",
            "  Num Epochs = 10\n",
            "  Instantaneous batch size per device = 8\n",
            "  Total train batch size (w. parallel, distributed & accumulation) = 8\n",
            "  Gradient Accumulation steps = 1\n",
            "  Total optimization steps = 160\n",
            "/usr/local/lib/python3.7/dist-packages/ipykernel_launcher.py:5: UserWarning: To copy construct from a tensor, it is recommended to use sourceTensor.clone().detach() or sourceTensor.clone().detach().requires_grad_(True), rather than torch.tensor(sourceTensor).\n",
            "  \"\"\"\n"
          ]
        },
        {
          "output_type": "display_data",
          "data": {
            "text/plain": [
              "<IPython.core.display.HTML object>"
            ],
            "text/html": [
              "\n",
              "    <div>\n",
              "      \n",
              "      <progress value='160' max='160' style='width:300px; height:20px; vertical-align: middle;'></progress>\n",
              "      [160/160 03:01, Epoch 10/10]\n",
              "    </div>\n",
              "    <table border=\"1\" class=\"dataframe\">\n",
              "  <thead>\n",
              " <tr style=\"text-align: left;\">\n",
              "      <th>Step</th>\n",
              "      <th>Training Loss</th>\n",
              "    </tr>\n",
              "  </thead>\n",
              "  <tbody>\n",
              "  </tbody>\n",
              "</table><p>"
            ]
          },
          "metadata": {}
        },
        {
          "output_type": "stream",
          "name": "stderr",
          "text": [
            "\n",
            "\n",
            "Training completed. Do not forget to share your model on huggingface.co/models =)\n",
            "\n",
            "\n"
          ]
        },
        {
          "output_type": "execute_result",
          "data": {
            "text/plain": [
              "TrainOutput(global_step=160, training_loss=7.626837158203125, metrics={'train_runtime': 184.4269, 'train_samples_per_second': 6.724, 'train_steps_per_second': 0.868, 'total_flos': 326449174487040.0, 'train_loss': 7.626837158203125, 'epoch': 10.0})"
            ]
          },
          "metadata": {},
          "execution_count": 20
        }
      ]
    },
    {
      "cell_type": "code",
      "source": [
        ""
      ],
      "metadata": {
        "id": "SH4rZlqVPzit"
      },
      "execution_count": 20,
      "outputs": []
    }
  ]
}